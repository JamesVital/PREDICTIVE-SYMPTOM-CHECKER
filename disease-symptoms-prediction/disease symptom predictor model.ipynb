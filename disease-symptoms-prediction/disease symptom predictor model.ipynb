{
 "cells": [
  {
   "cell_type": "code",
   "execution_count": 5,
   "id": "bba31c1a",
   "metadata": {},
   "outputs": [],
   "source": [
    "#import important libraries\n",
    "import pandas as pd\n",
    "import seaborn as sns\n",
    "import matplotlib.pyplot as plt\n",
    "%matplotlib inline\n",
    "import numpy as np\n",
    "import warnings\n",
    "warnings.filterwarnings('ignore')"
   ]
  },
  {
   "cell_type": "code",
   "execution_count": 6,
   "id": "dd42c272",
   "metadata": {},
   "outputs": [],
   "source": [
    "#reading the dataset\n",
    "df = pd.read_csv('Training.csv')"
   ]
  },
  {
   "cell_type": "code",
   "execution_count": 7,
   "id": "1a3910e1",
   "metadata": {},
   "outputs": [
    {
     "data": {
      "text/html": [
       "<div>\n",
       "<style scoped>\n",
       "    .dataframe tbody tr th:only-of-type {\n",
       "        vertical-align: middle;\n",
       "    }\n",
       "\n",
       "    .dataframe tbody tr th {\n",
       "        vertical-align: top;\n",
       "    }\n",
       "\n",
       "    .dataframe thead th {\n",
       "        text-align: right;\n",
       "    }\n",
       "</style>\n",
       "<table border=\"1\" class=\"dataframe\">\n",
       "  <thead>\n",
       "    <tr style=\"text-align: right;\">\n",
       "      <th></th>\n",
       "      <th>itching</th>\n",
       "      <th>skin_rash</th>\n",
       "      <th>nodal_skin_eruptions</th>\n",
       "      <th>continuous_sneezing</th>\n",
       "      <th>shivering</th>\n",
       "      <th>chills</th>\n",
       "      <th>joint_pain</th>\n",
       "      <th>stomach_pain</th>\n",
       "      <th>acidity</th>\n",
       "      <th>ulcers_on_tongue</th>\n",
       "      <th>...</th>\n",
       "      <th>blackheads</th>\n",
       "      <th>scurring</th>\n",
       "      <th>skin_peeling</th>\n",
       "      <th>silver_like_dusting</th>\n",
       "      <th>small_dents_in_nails</th>\n",
       "      <th>inflammatory_nails</th>\n",
       "      <th>blister</th>\n",
       "      <th>red_sore_around_nose</th>\n",
       "      <th>yellow_crust_ooze</th>\n",
       "      <th>prognosis</th>\n",
       "    </tr>\n",
       "  </thead>\n",
       "  <tbody>\n",
       "    <tr>\n",
       "      <th>0</th>\n",
       "      <td>1</td>\n",
       "      <td>1</td>\n",
       "      <td>1</td>\n",
       "      <td>0</td>\n",
       "      <td>0</td>\n",
       "      <td>0</td>\n",
       "      <td>0</td>\n",
       "      <td>0</td>\n",
       "      <td>0</td>\n",
       "      <td>0</td>\n",
       "      <td>...</td>\n",
       "      <td>0</td>\n",
       "      <td>0</td>\n",
       "      <td>0</td>\n",
       "      <td>0</td>\n",
       "      <td>0</td>\n",
       "      <td>0</td>\n",
       "      <td>0</td>\n",
       "      <td>0</td>\n",
       "      <td>0</td>\n",
       "      <td>Fungal infection</td>\n",
       "    </tr>\n",
       "    <tr>\n",
       "      <th>1</th>\n",
       "      <td>0</td>\n",
       "      <td>1</td>\n",
       "      <td>1</td>\n",
       "      <td>0</td>\n",
       "      <td>0</td>\n",
       "      <td>0</td>\n",
       "      <td>0</td>\n",
       "      <td>0</td>\n",
       "      <td>0</td>\n",
       "      <td>0</td>\n",
       "      <td>...</td>\n",
       "      <td>0</td>\n",
       "      <td>0</td>\n",
       "      <td>0</td>\n",
       "      <td>0</td>\n",
       "      <td>0</td>\n",
       "      <td>0</td>\n",
       "      <td>0</td>\n",
       "      <td>0</td>\n",
       "      <td>0</td>\n",
       "      <td>Fungal infection</td>\n",
       "    </tr>\n",
       "    <tr>\n",
       "      <th>2</th>\n",
       "      <td>1</td>\n",
       "      <td>0</td>\n",
       "      <td>1</td>\n",
       "      <td>0</td>\n",
       "      <td>0</td>\n",
       "      <td>0</td>\n",
       "      <td>0</td>\n",
       "      <td>0</td>\n",
       "      <td>0</td>\n",
       "      <td>0</td>\n",
       "      <td>...</td>\n",
       "      <td>0</td>\n",
       "      <td>0</td>\n",
       "      <td>0</td>\n",
       "      <td>0</td>\n",
       "      <td>0</td>\n",
       "      <td>0</td>\n",
       "      <td>0</td>\n",
       "      <td>0</td>\n",
       "      <td>0</td>\n",
       "      <td>Fungal infection</td>\n",
       "    </tr>\n",
       "    <tr>\n",
       "      <th>3</th>\n",
       "      <td>1</td>\n",
       "      <td>1</td>\n",
       "      <td>0</td>\n",
       "      <td>0</td>\n",
       "      <td>0</td>\n",
       "      <td>0</td>\n",
       "      <td>0</td>\n",
       "      <td>0</td>\n",
       "      <td>0</td>\n",
       "      <td>0</td>\n",
       "      <td>...</td>\n",
       "      <td>0</td>\n",
       "      <td>0</td>\n",
       "      <td>0</td>\n",
       "      <td>0</td>\n",
       "      <td>0</td>\n",
       "      <td>0</td>\n",
       "      <td>0</td>\n",
       "      <td>0</td>\n",
       "      <td>0</td>\n",
       "      <td>Fungal infection</td>\n",
       "    </tr>\n",
       "    <tr>\n",
       "      <th>4</th>\n",
       "      <td>1</td>\n",
       "      <td>1</td>\n",
       "      <td>1</td>\n",
       "      <td>0</td>\n",
       "      <td>0</td>\n",
       "      <td>0</td>\n",
       "      <td>0</td>\n",
       "      <td>0</td>\n",
       "      <td>0</td>\n",
       "      <td>0</td>\n",
       "      <td>...</td>\n",
       "      <td>0</td>\n",
       "      <td>0</td>\n",
       "      <td>0</td>\n",
       "      <td>0</td>\n",
       "      <td>0</td>\n",
       "      <td>0</td>\n",
       "      <td>0</td>\n",
       "      <td>0</td>\n",
       "      <td>0</td>\n",
       "      <td>Fungal infection</td>\n",
       "    </tr>\n",
       "  </tbody>\n",
       "</table>\n",
       "<p>5 rows × 133 columns</p>\n",
       "</div>"
      ],
      "text/plain": [
       "   itching  skin_rash  nodal_skin_eruptions  continuous_sneezing  shivering  \\\n",
       "0        1          1                     1                    0          0   \n",
       "1        0          1                     1                    0          0   \n",
       "2        1          0                     1                    0          0   \n",
       "3        1          1                     0                    0          0   \n",
       "4        1          1                     1                    0          0   \n",
       "\n",
       "   chills  joint_pain  stomach_pain  acidity  ulcers_on_tongue  ...  \\\n",
       "0       0           0             0        0                 0  ...   \n",
       "1       0           0             0        0                 0  ...   \n",
       "2       0           0             0        0                 0  ...   \n",
       "3       0           0             0        0                 0  ...   \n",
       "4       0           0             0        0                 0  ...   \n",
       "\n",
       "   blackheads  scurring  skin_peeling  silver_like_dusting  \\\n",
       "0           0         0             0                    0   \n",
       "1           0         0             0                    0   \n",
       "2           0         0             0                    0   \n",
       "3           0         0             0                    0   \n",
       "4           0         0             0                    0   \n",
       "\n",
       "   small_dents_in_nails  inflammatory_nails  blister  red_sore_around_nose  \\\n",
       "0                     0                   0        0                     0   \n",
       "1                     0                   0        0                     0   \n",
       "2                     0                   0        0                     0   \n",
       "3                     0                   0        0                     0   \n",
       "4                     0                   0        0                     0   \n",
       "\n",
       "   yellow_crust_ooze         prognosis  \n",
       "0                  0  Fungal infection  \n",
       "1                  0  Fungal infection  \n",
       "2                  0  Fungal infection  \n",
       "3                  0  Fungal infection  \n",
       "4                  0  Fungal infection  \n",
       "\n",
       "[5 rows x 133 columns]"
      ]
     },
     "execution_count": 7,
     "metadata": {},
     "output_type": "execute_result"
    }
   ],
   "source": [
    "df.head()"
   ]
  },
  {
   "cell_type": "code",
   "execution_count": 8,
   "id": "958d3f76",
   "metadata": {},
   "outputs": [
    {
     "data": {
      "text/plain": [
       "(4920, 133)"
      ]
     },
     "execution_count": 8,
     "metadata": {},
     "output_type": "execute_result"
    }
   ],
   "source": [
    "#check rows and columns in the data\n",
    "df.shape"
   ]
  },
  {
   "cell_type": "code",
   "execution_count": 9,
   "id": "5dc50f96",
   "metadata": {},
   "outputs": [
    {
     "data": {
      "text/plain": [
       "itching                 0\n",
       "skin_rash               0\n",
       "nodal_skin_eruptions    0\n",
       "continuous_sneezing     0\n",
       "shivering               0\n",
       "                       ..\n",
       "inflammatory_nails      0\n",
       "blister                 0\n",
       "red_sore_around_nose    0\n",
       "yellow_crust_ooze       0\n",
       "prognosis               0\n",
       "Length: 133, dtype: int64"
      ]
     },
     "execution_count": 9,
     "metadata": {},
     "output_type": "execute_result"
    }
   ],
   "source": [
    "#check any null values are there with descending format\n",
    "df.isnull().sum().sort_values(ascending=False)"
   ]
  },
  {
   "cell_type": "code",
   "execution_count": 10,
   "id": "4d80e3ed",
   "metadata": {},
   "outputs": [
    {
     "data": {
      "text/plain": [
       "Index(['itching', 'skin_rash', 'nodal_skin_eruptions', 'continuous_sneezing',\n",
       "       'shivering', 'chills', 'joint_pain', 'stomach_pain', 'acidity',\n",
       "       'ulcers_on_tongue',\n",
       "       ...\n",
       "       'blackheads', 'scurring', 'skin_peeling', 'silver_like_dusting',\n",
       "       'small_dents_in_nails', 'inflammatory_nails', 'blister',\n",
       "       'red_sore_around_nose', 'yellow_crust_ooze', 'prognosis'],\n",
       "      dtype='object', length=133)"
      ]
     },
     "execution_count": 10,
     "metadata": {},
     "output_type": "execute_result"
    }
   ],
   "source": [
    "#display all columns in the dataset\n",
    "df.columns"
   ]
  },
  {
   "cell_type": "code",
   "execution_count": 11,
   "id": "c341f131",
   "metadata": {},
   "outputs": [
    {
     "data": {
      "text/plain": [
       "prognosis\n",
       "Fungal infection                           0.02439\n",
       "Allergy                                    0.02439\n",
       "GERD                                       0.02439\n",
       "Chronic cholestasis                        0.02439\n",
       "Drug Reaction                              0.02439\n",
       "Peptic ulcer diseae                        0.02439\n",
       "AIDS                                       0.02439\n",
       "Diabetes                                   0.02439\n",
       "Gastroenteritis                            0.02439\n",
       "Bronchial Asthma                           0.02439\n",
       "Hypertension                               0.02439\n",
       "Migraine                                   0.02439\n",
       "Cervical spondylosis                       0.02439\n",
       "Paralysis (brain hemorrhage)               0.02439\n",
       "Jaundice                                   0.02439\n",
       "Malaria                                    0.02439\n",
       "Chicken pox                                0.02439\n",
       "Dengue                                     0.02439\n",
       "Typhoid                                    0.02439\n",
       "hepatitis A                                0.02439\n",
       "Hepatitis B                                0.02439\n",
       "Hepatitis C                                0.02439\n",
       "Hepatitis D                                0.02439\n",
       "Hepatitis E                                0.02439\n",
       "Alcoholic hepatitis                        0.02439\n",
       "Tuberculosis                               0.02439\n",
       "Common Cold                                0.02439\n",
       "Pneumonia                                  0.02439\n",
       "Dimorphic hemmorhoids(piles)               0.02439\n",
       "Heart attack                               0.02439\n",
       "Varicose veins                             0.02439\n",
       "Hypothyroidism                             0.02439\n",
       "Hyperthyroidism                            0.02439\n",
       "Hypoglycemia                               0.02439\n",
       "Osteoarthristis                            0.02439\n",
       "Arthritis                                  0.02439\n",
       "(vertigo) Paroymsal  Positional Vertigo    0.02439\n",
       "Acne                                       0.02439\n",
       "Urinary tract infection                    0.02439\n",
       "Psoriasis                                  0.02439\n",
       "Impetigo                                   0.02439\n",
       "Name: proportion, dtype: float64"
      ]
     },
     "execution_count": 11,
     "metadata": {},
     "output_type": "execute_result"
    }
   ],
   "source": [
    "#checking how much percent each diseases having\n",
    "df['prognosis'].value_counts(normalize = True)"
   ]
  },
  {
   "cell_type": "code",
   "execution_count": 12,
   "id": "9dd1abd5",
   "metadata": {},
   "outputs": [
    {
     "data": {
      "image/png": "[encoded data removed]",
      "text/plain": [
       "<Figure size 640x480 with 1 Axes>"
      ]
     },
     "metadata": {},
     "output_type": "display_data"
    }
   ],
   "source": [
    "#visualize the diseases on a bar chart\n",
    "#as we can see each no. diseases having the same percentage through bar chart\n",
    "df['prognosis'].value_counts(normalize = True).plot.bar()\n",
    "plt.subplots_adjust(left = 0.9, right = 2 , top = 2, bottom = 1)"
   ]
  },
  {
   "cell_type": "code",
   "execution_count": 13,
   "id": "f0b93322",
   "metadata": {},
   "outputs": [
    {
     "data": {
      "text/plain": [
       "array([dtype('int64'), dtype('O')], dtype=object)"
      ]
     },
     "execution_count": 13,
     "metadata": {},
     "output_type": "execute_result"
    }
   ],
   "source": [
    "#checking if there are any other data types\n",
    "df.dtypes.unique()"
   ]
  },
  {
   "cell_type": "code",
   "execution_count": 5,
   "id": "8df82503",
   "metadata": {},
   "outputs": [
    {
     "ename": "NameError",
     "evalue": "name 'df' is not defined",
     "output_type": "error",
     "traceback": [
      "\u001b[31m---------------------------------------------------------------------------\u001b[39m",
      "\u001b[31mNameError\u001b[39m                                 Traceback (most recent call last)",
      "\u001b[36mCell\u001b[39m\u001b[36m \u001b[39m\u001b[32mIn[5]\u001b[39m\u001b[32m, line 2\u001b[39m\n\u001b[32m      1\u001b[39m \u001b[38;5;66;03m#Analyzing each symptoms/variable\u001b[39;00m\n\u001b[32m----> \u001b[39m\u001b[32m2\u001b[39m \u001b[38;5;28;01mfor\u001b[39;00m x \u001b[38;5;129;01min\u001b[39;00m \u001b[38;5;28mrange\u001b[39m(\u001b[43mdf\u001b[49m.shape[\u001b[32m1\u001b[39m]):\n\u001b[32m      3\u001b[39m     plt.subplot(\u001b[32m7\u001b[39m,\u001b[32m22\u001b[39m,x+\u001b[32m1\u001b[39m)\n\u001b[32m      4\u001b[39m     plt.subplots_adjust(left = \u001b[32m0.5\u001b[39m, right = \u001b[32m16\u001b[39m , top = \u001b[32m10\u001b[39m, bottom = \u001b[32m0.5\u001b[39m)\n",
      "\u001b[31mNameError\u001b[39m: name 'df' is not defined"
     ]
    }
   ],
   "source": [
    "#Analyzing each symptoms/variable\n",
    "for x in range(df.shape[1]):\n",
    "    plt.subplot(7,22,x+1)\n",
    "    plt.subplots_adjust(left = 0.5, right = 16 , top = 10, bottom = 0.5)\n",
    "    sns.countplot(df[df.columns[x]]).set_title(df.columns[x],fontsize=23)"
   ]
  },
  {
   "cell_type": "code",
   "execution_count": 7,
   "id": "7ae705bc",
   "metadata": {},
   "outputs": [
    {
     "ename": "NameError",
     "evalue": "name 'df' is not defined",
     "output_type": "error",
     "traceback": [
      "\u001b[31m---------------------------------------------------------------------------\u001b[39m",
      "\u001b[31mNameError\u001b[39m                                 Traceback (most recent call last)",
      "\u001b[36mCell\u001b[39m\u001b[36m \u001b[39m\u001b[32mIn[7]\u001b[39m\u001b[32m, line 2\u001b[39m\n\u001b[32m      1\u001b[39m \u001b[38;5;66;03m#checking the relationship between the variables by applying the correlation \u001b[39;00m\n\u001b[32m----> \u001b[39m\u001b[32m2\u001b[39m corr = \u001b[43mdf\u001b[49m.corr()\n\u001b[32m      3\u001b[39m mask = np.array(corr)\n\u001b[32m      4\u001b[39m mask[np.tril_indices_from(mask)] = \u001b[38;5;28;01mFalse\u001b[39;00m\n",
      "\u001b[31mNameError\u001b[39m: name 'df' is not defined"
     ]
    }
   ],
   "source": [
    "#checking the relationship between the variables by applying the correlation \n",
    "corr = df.corr()\n",
    "mask = np.array(corr)\n",
    "mask[np.tril_indices_from(mask)] = False\n",
    "plt.subplots_adjust(left = 0.5, right = 16 , top = 20, bottom = 0.5)\n",
    "sns.heatmap(corr, mask=mask,vmax=.9, square=True,annot=True, cmap=\"YlGnBu\")"
   ]
  },
  {
   "cell_type": "code",
   "execution_count": 19,
   "id": "bf3894a5",
   "metadata": {},
   "outputs": [
    {
     "ename": "NameError",
     "evalue": "name 'pd' is not defined",
     "output_type": "error",
     "traceback": [
      "\u001b[31m---------------------------------------------------------------------------\u001b[39m",
      "\u001b[31mNameError\u001b[39m                                 Traceback (most recent call last)",
      "\u001b[36mCell\u001b[39m\u001b[36m \u001b[39m\u001b[32mIn[19]\u001b[39m\u001b[32m, line 2\u001b[39m\n\u001b[32m      1\u001b[39m \u001b[38;5;66;03m#took two high correlation variables and analysing if it is satisfying null hypothesis or alternate hypothesis\u001b[39;00m\n\u001b[32m----> \u001b[39m\u001b[32m2\u001b[39m \u001b[43mpd\u001b[49m.crosstab(df[\u001b[33m'\u001b[39m\u001b[33mcold_hands_and_feets\u001b[39m\u001b[33m'\u001b[39m],df[\u001b[33m'\u001b[39m\u001b[33mweight_gain\u001b[39m\u001b[33m'\u001b[39m])\n",
      "\u001b[31mNameError\u001b[39m: name 'pd' is not defined"
     ]
    }
   ],
   "source": [
    "#took two high correlation variables and analysing if it is satisfying null hypothesis or alternate hypothesis\n",
    "pd.crosstab(df['cold_hands_and_feets'],df['weight_gain'])"
   ]
  },
  {
   "cell_type": "code",
   "execution_count": null,
   "id": "5a48618e",
   "metadata": {},
   "outputs": [],
   "source": [
    "#import the chi square contingency\n",
    "#used for performing the chi-square test of independence on a contingency table. \n",
    "#The chi-square test of independence is a statistical test that determines whether there is a significant association between two categorical variables.\n",
    "from scipy.stats import chi2_contingency"
   ]
  },
  {
   "cell_type": "code",
   "execution_count": null,
   "id": "aab4f8df",
   "metadata": {},
   "outputs": [
    {
     "data": {
      "text/plain": [
       "Chi2ContingencyResult(statistic=np.float64(4362.40173527245), pvalue=np.float64(0.0), dof=1, expected_freq=array([[4.69464146e+03, 1.11358537e+02],\n",
       "       [1.11358537e+02, 2.64146341e+00]]))"
      ]
     },
     "execution_count": 14,
     "metadata": {},
     "output_type": "execute_result"
    }
   ],
   "source": [
    "#as p value is  0.0  which is less than 0.05 then they are actually different from each other which satisfy the alternate hypothesis \n",
    "chi2_contingency(pd.crosstab(df['cold_hands_and_feets'],df['weight_gain']))"
   ]
  },
  {
   "cell_type": "code",
   "execution_count": null,
   "id": "e64b3356",
   "metadata": {},
   "outputs": [],
   "source": [
    "#seperated the independent and dependent values to repective variables \n",
    "x = df.drop(['prognosis'],axis =1)\n",
    "y = df['prognosis']"
   ]
  },
  {
   "cell_type": "code",
   "execution_count": 11,
   "id": "0e5d5c82",
   "metadata": {},
   "outputs": [
    {
     "ename": "ModuleNotFoundError",
     "evalue": "No module named 'sklearn'",
     "output_type": "error",
     "traceback": [
      "\u001b[31m---------------------------------------------------------------------------\u001b[39m",
      "\u001b[31mModuleNotFoundError\u001b[39m                       Traceback (most recent call last)",
      "\u001b[36mCell\u001b[39m\u001b[36m \u001b[39m\u001b[32mIn[11]\u001b[39m\u001b[32m, line 1\u001b[39m\n\u001b[32m----> \u001b[39m\u001b[32m1\u001b[39m \u001b[38;5;28;01mfrom\u001b[39;00m\u001b[38;5;250m \u001b[39m\u001b[34;01msklearn\u001b[39;00m\u001b[34;01m.\u001b[39;00m\u001b[34;01mmodel_selection\u001b[39;00m\u001b[38;5;250m \u001b[39m\u001b[38;5;28;01mimport\u001b[39;00m train_test_split\n",
      "\u001b[31mModuleNotFoundError\u001b[39m: No module named 'sklearn'"
     ]
    }
   ],
   "source": [
    "from sklearn.model_selection import train_test_split"
   ]
  },
  {
   "cell_type": "code",
   "execution_count": 10,
   "id": "d1ab2791",
   "metadata": {},
   "outputs": [
    {
     "ename": "NameError",
     "evalue": "name 'train_test_split' is not defined",
     "output_type": "error",
     "traceback": [
      "\u001b[31m---------------------------------------------------------------------------\u001b[39m",
      "\u001b[31mNameError\u001b[39m                                 Traceback (most recent call last)",
      "\u001b[36mCell\u001b[39m\u001b[36m \u001b[39m\u001b[32mIn[10]\u001b[39m\u001b[32m, line 2\u001b[39m\n\u001b[32m      1\u001b[39m \u001b[38;5;66;03m#divide into testing and training\u001b[39;00m\n\u001b[32m----> \u001b[39m\u001b[32m2\u001b[39m x_train, x_test, y_train, y_test = \u001b[43mtrain_test_split\u001b[49m(x, y, test_size=\u001b[32m0.33\u001b[39m, random_state=\u001b[32m42\u001b[39m)\n",
      "\u001b[31mNameError\u001b[39m: name 'train_test_split' is not defined"
     ]
    }
   ],
   "source": [
    "#divide into testing and training\n",
    "x_train, x_test, y_train, y_test = train_test_split(x, y, test_size=0.33, random_state=42)"
   ]
  },
  {
   "cell_type": "code",
   "execution_count": null,
   "id": "15b5cd01",
   "metadata": {},
   "outputs": [
    {
     "ename": "ModuleNotFoundError",
     "evalue": "No module named 'sklearn'",
     "output_type": "error",
     "traceback": [
      "\u001b[0;31m---------------------------------------------------------------------------\u001b[0m",
      "\u001b[0;31mModuleNotFoundError\u001b[0m                       Traceback (most recent call last)",
      "Cell \u001b[0;32mIn[18], line 3\u001b[0m\n\u001b[1;32m      1\u001b[0m \u001b[38;5;66;03m#Multinomial Naive Bayes is suitable for discrete data, typically used for text classification tasks where the features are word counts or term frequencies.\u001b[39;00m\n\u001b[1;32m      2\u001b[0m \u001b[38;5;66;03m#import naive_baye algorithm\u001b[39;00m\n\u001b[0;32m----> 3\u001b[0m \u001b[38;5;28;01mfrom\u001b[39;00m \u001b[38;5;21;01msklearn\u001b[39;00m\u001b[38;5;21;01m.\u001b[39;00m\u001b[38;5;21;01mnaive_bayes\u001b[39;00m \u001b[38;5;28;01mimport\u001b[39;00m MultinomialNB\n",
      "\u001b[0;31mModuleNotFoundError\u001b[0m: No module named 'sklearn'"
     ]
    }
   ],
   "source": [
    "#Multinomial Naive Bayes is suitable for discrete data, typically used for text classification tasks where the features are word counts or term frequencies.\n",
    "#import naive_baye algorithm\n",
    "from sklearn.naive_bayes import MultinomialNB"
   ]
  },
  {
   "cell_type": "code",
   "execution_count": null,
   "id": "a486dd02",
   "metadata": {},
   "outputs": [
    {
     "ename": "NameError",
     "evalue": "name 'MultinomialNB' is not defined",
     "output_type": "error",
     "traceback": [
      "\u001b[0;31m---------------------------------------------------------------------------\u001b[0m",
      "\u001b[0;31mNameError\u001b[0m                                 Traceback (most recent call last)",
      "Cell \u001b[0;32mIn[19], line 2\u001b[0m\n\u001b[1;32m      1\u001b[0m \u001b[38;5;66;03m#fit the model\u001b[39;00m\n\u001b[0;32m----> 2\u001b[0m mnb \u001b[38;5;241m=\u001b[39m \u001b[43mMultinomialNB\u001b[49m()\n\u001b[1;32m      3\u001b[0m mnb \u001b[38;5;241m=\u001b[39m mnb\u001b[38;5;241m.\u001b[39mfit(x_train, y_train)\n",
      "\u001b[0;31mNameError\u001b[0m: name 'MultinomialNB' is not defined"
     ]
    }
   ],
   "source": [
    "#fit the model\n",
    "mnb = MultinomialNB()\n",
    "mnb = mnb.fit(x_train, y_train)"
   ]
  },
  {
   "cell_type": "code",
   "execution_count": null,
   "id": "a7f9c8c1",
   "metadata": {},
   "outputs": [
    {
     "ename": "ModuleNotFoundError",
     "evalue": "No module named 'sklearn'",
     "output_type": "error",
     "traceback": [
      "\u001b[0;31m---------------------------------------------------------------------------\u001b[0m",
      "\u001b[0;31mModuleNotFoundError\u001b[0m                       Traceback (most recent call last)",
      "Cell \u001b[0;32mIn[20], line 1\u001b[0m\n\u001b[0;32m----> 1\u001b[0m \u001b[38;5;28;01mfrom\u001b[39;00m \u001b[38;5;21;01msklearn\u001b[39;00m\u001b[38;5;21;01m.\u001b[39;00m\u001b[38;5;21;01mmetrics\u001b[39;00m \u001b[38;5;28;01mimport\u001b[39;00m accuracy_score\n\u001b[1;32m      2\u001b[0m y_pred \u001b[38;5;241m=\u001b[39m mnb\u001b[38;5;241m.\u001b[39mpredict(x_test)\n\u001b[1;32m      3\u001b[0m accuracy_score(y_pred,y_test)\n",
      "\u001b[0;31mModuleNotFoundError\u001b[0m: No module named 'sklearn'"
     ]
    }
   ],
   "source": [
    "from sklearn.metrics import accuracy_score\n",
    "y_pred = mnb.predict(x_test)\n",
    "accuracy_score(y_pred,y_test)"
   ]
  },
  {
   "cell_type": "code",
   "execution_count": null,
   "id": "326caa0d",
   "metadata": {},
   "outputs": [
    {
     "ename": "ModuleNotFoundError",
     "evalue": "No module named 'sklearn'",
     "output_type": "error",
     "traceback": [
      "\u001b[0;31m---------------------------------------------------------------------------\u001b[0m",
      "\u001b[0;31mModuleNotFoundError\u001b[0m                       Traceback (most recent call last)",
      "Cell \u001b[0;32mIn[21], line 2\u001b[0m\n\u001b[1;32m      1\u001b[0m \u001b[38;5;66;03m#by cross validating we got mean also 100%\u001b[39;00m\n\u001b[0;32m----> 2\u001b[0m \u001b[38;5;28;01mfrom\u001b[39;00m \u001b[38;5;21;01msklearn\u001b[39;00m\u001b[38;5;21;01m.\u001b[39;00m\u001b[38;5;21;01mmodel_selection\u001b[39;00m \u001b[38;5;28;01mimport\u001b[39;00m cross_val_score\n\u001b[1;32m      3\u001b[0m scores \u001b[38;5;241m=\u001b[39m cross_val_score(mnb, x_test, y_test, cv\u001b[38;5;241m=\u001b[39m\u001b[38;5;241m3\u001b[39m)\n\u001b[1;32m      4\u001b[0m \u001b[38;5;28mprint\u001b[39m (scores)\n",
      "\u001b[0;31mModuleNotFoundError\u001b[0m: No module named 'sklearn'"
     ]
    }
   ],
   "source": [
    "#by cross validating we got mean also 100%\n",
    "from sklearn.model_selection import cross_val_score\n",
    "scores = cross_val_score(mnb, x_test, y_test, cv=3)\n",
    "print (scores)\n",
    "print (scores.mean())"
   ]
  },
  {
   "cell_type": "code",
   "execution_count": null,
   "id": "c039260a",
   "metadata": {},
   "outputs": [
    {
     "ename": "NameError",
     "evalue": "name 'y_test' is not defined",
     "output_type": "error",
     "traceback": [
      "\u001b[0;31m---------------------------------------------------------------------------\u001b[0m",
      "\u001b[0;31mNameError\u001b[0m                                 Traceback (most recent call last)",
      "Cell \u001b[0;32mIn[22], line 1\u001b[0m\n\u001b[0;32m----> 1\u001b[0m real_diseases \u001b[38;5;241m=\u001b[39m \u001b[43my_test\u001b[49m\u001b[38;5;241m.\u001b[39mvalues\n",
      "\u001b[0;31mNameError\u001b[0m: name 'y_test' is not defined"
     ]
    }
   ],
   "source": [
    "real_diseases = y_test.values"
   ]
  },
  {
   "cell_type": "code",
   "execution_count": null,
   "id": "fd4185e2",
   "metadata": {},
   "outputs": [
    {
     "ename": "NameError",
     "evalue": "name 'real_diseases' is not defined",
     "output_type": "error",
     "traceback": [
      "\u001b[0;31m---------------------------------------------------------------------------\u001b[0m",
      "\u001b[0;31mNameError\u001b[0m                                 Traceback (most recent call last)",
      "Cell \u001b[0;32mIn[23], line 2\u001b[0m\n\u001b[1;32m      1\u001b[0m \u001b[38;5;66;03m#for the cross checking purpose we want to see if predicted values and actual values are same else it's giving worng prediction \u001b[39;00m\n\u001b[0;32m----> 2\u001b[0m \u001b[38;5;28;01mfor\u001b[39;00m i \u001b[38;5;129;01min\u001b[39;00m \u001b[38;5;28mrange\u001b[39m(\u001b[38;5;241m0\u001b[39m, \u001b[38;5;28mlen\u001b[39m(\u001b[43mreal_diseases\u001b[49m)):\n\u001b[1;32m      3\u001b[0m     \u001b[38;5;28;01mif\u001b[39;00m y_pred[i] \u001b[38;5;241m==\u001b[39m real_diseases[i]:\n\u001b[1;32m      4\u001b[0m         \u001b[38;5;28mprint\u001b[39m (\u001b[38;5;124m'\u001b[39m\u001b[38;5;124mPred: \u001b[39m\u001b[38;5;132;01m{0}\u001b[39;00m\u001b[38;5;124m Actual:\u001b[39m\u001b[38;5;132;01m{1}\u001b[39;00m\u001b[38;5;124m'\u001b[39m\u001b[38;5;241m.\u001b[39mformat(y_pred[i], real_diseases[i]))\n",
      "\u001b[0;31mNameError\u001b[0m: name 'real_diseases' is not defined"
     ]
    }
   ],
   "source": [
    "#for the cross checking purpose we want to see if predicted values and actual values are same else it's giving worng prediction \n",
    "for i in range(0, len(real_diseases)):\n",
    "    if y_pred[i] == real_diseases[i]:\n",
    "        print ('Pred: {0} Actual:{1}'.format(y_pred[i], real_diseases[i]))\n",
    "    else:\n",
    "        print('worng prediction')\n",
    "        print ('Pred: {0} Actual:{1}'.format(y_pred[i], real_diseases[i]))"
   ]
  },
  {
   "cell_type": "code",
   "execution_count": null,
   "id": "d2893b09",
   "metadata": {},
   "outputs": [
    {
     "ename": "ModuleNotFoundError",
     "evalue": "No module named 'sklearn'",
     "output_type": "error",
     "traceback": [
      "\u001b[0;31m---------------------------------------------------------------------------\u001b[0m",
      "\u001b[0;31mModuleNotFoundError\u001b[0m                       Traceback (most recent call last)",
      "Cell \u001b[0;32mIn[24], line 4\u001b[0m\n\u001b[1;32m      1\u001b[0m \u001b[38;5;66;03m#import Kfold\u001b[39;00m\n\u001b[1;32m      2\u001b[0m \u001b[38;5;66;03m#It is used to split a dataset into k consecutive folds (subsets) for cross-validation. \u001b[39;00m\n\u001b[1;32m      3\u001b[0m \u001b[38;5;66;03m#The primary purpose of using KFold is to assess the performance and generalization ability of a machine learning model.\u001b[39;00m\n\u001b[0;32m----> 4\u001b[0m \u001b[38;5;28;01mfrom\u001b[39;00m \u001b[38;5;21;01msklearn\u001b[39;00m\u001b[38;5;21;01m.\u001b[39;00m\u001b[38;5;21;01mmodel_selection\u001b[39;00m \u001b[38;5;28;01mimport\u001b[39;00m KFold\n",
      "\u001b[0;31mModuleNotFoundError\u001b[0m: No module named 'sklearn'"
     ]
    }
   ],
   "source": [
    "#import Kfold\n",
    "#It is used to split a dataset into k consecutive folds (subsets) for cross-validation. \n",
    "#The primary purpose of using KFold is to assess the performance and generalization ability of a machine learning model.\n",
    "from sklearn.model_selection import KFold"
   ]
  },
  {
   "cell_type": "code",
   "execution_count": null,
   "id": "14d3a171",
   "metadata": {},
   "outputs": [],
   "source": [
    "## Function to run multiple algorithms with different K values of KFold.\n",
    "def evaluate(train_data,kmax,algo):\n",
    "    test_scores = {}\n",
    "    train_scores = {}\n",
    "    for i in range(2,kmax,2):\n",
    "        kf = KFold(n_splits = i)\n",
    "        sum_train = 0\n",
    "        sum_test = 0\n",
    "        data = df\n",
    "        for train,test in kf.split(data):\n",
    "            train_data = data.iloc[train,:]\n",
    "            test_data = data.iloc[test,:]\n",
    "            x_train = train_data.drop([\"prognosis\"],axis=1)\n",
    "            y_train = train_data['prognosis']\n",
    "            x_test = test_data.drop([\"prognosis\"],axis=1)\n",
    "            y_test = test_data[\"prognosis\"]\n",
    "            algo_model = algo.fit(x_train,y_train)\n",
    "            sum_train += algo_model.score(x_train,y_train)\n",
    "            y_pred = algo_model.predict(x_test)\n",
    "            sum_test += accuracy_score(y_test,y_pred)\n",
    "        average_test = sum_test/i\n",
    "        average_train = sum_train/i\n",
    "        test_scores[i] = average_test\n",
    "        train_scores[i] = average_train\n",
    "        print(\"kvalue: \",i)\n",
    "    return(train_scores,test_scores) "
   ]
  },
  {
   "cell_type": "code",
   "execution_count": null,
   "id": "52c21e37",
   "metadata": {},
   "outputs": [
    {
     "ename": "ModuleNotFoundError",
     "evalue": "No module named 'sklearn'",
     "output_type": "error",
     "traceback": [
      "\u001b[0;31m---------------------------------------------------------------------------\u001b[0m",
      "\u001b[0;31mModuleNotFoundError\u001b[0m                       Traceback (most recent call last)",
      "Cell \u001b[0;32mIn[26], line 1\u001b[0m\n\u001b[0;32m----> 1\u001b[0m \u001b[38;5;28;01mfrom\u001b[39;00m \u001b[38;5;21;01msklearn\u001b[39;00m\u001b[38;5;21;01m.\u001b[39;00m\u001b[38;5;21;01mensemble\u001b[39;00m \u001b[38;5;28;01mimport\u001b[39;00m GradientBoostingClassifier\n\u001b[1;32m      2\u001b[0m gbm \u001b[38;5;241m=\u001b[39m GradientBoostingClassifier()\n\u001b[1;32m      3\u001b[0m nb \u001b[38;5;241m=\u001b[39m MultinomialNB()\n",
      "\u001b[0;31mModuleNotFoundError\u001b[0m: No module named 'sklearn'"
     ]
    }
   ],
   "source": [
    "from sklearn.ensemble import GradientBoostingClassifier\n",
    "gbm = GradientBoostingClassifier()\n",
    "nb = MultinomialNB()\n",
    "from sklearn.linear_model import LogisticRegression\n",
    "log = LogisticRegression()\n",
    "from sklearn.tree import DecisionTreeClassifier\n",
    "dt = DecisionTreeClassifier(criterion='entropy',)\n",
    "from sklearn.ensemble import RandomForestClassifier\n",
    "ran = RandomForestClassifier(n_estimators = 10)"
   ]
  },
  {
   "cell_type": "code",
   "execution_count": null,
   "id": "cebde135",
   "metadata": {},
   "outputs": [
    {
     "ename": "NameError",
     "evalue": "name 'log' is not defined",
     "output_type": "error",
     "traceback": [
      "\u001b[0;31m---------------------------------------------------------------------------\u001b[0m",
      "\u001b[0;31mNameError\u001b[0m                                 Traceback (most recent call last)",
      "Cell \u001b[0;32mIn[27], line 1\u001b[0m\n\u001b[0;32m----> 1\u001b[0m algo_dict \u001b[38;5;241m=\u001b[39m {\u001b[38;5;124m'\u001b[39m\u001b[38;5;124ml_o_g\u001b[39m\u001b[38;5;124m'\u001b[39m:\u001b[43mlog\u001b[49m,\u001b[38;5;124m'\u001b[39m\u001b[38;5;124md_t\u001b[39m\u001b[38;5;124m'\u001b[39m:dt,\u001b[38;5;124m'\u001b[39m\u001b[38;5;124mr_a_n\u001b[39m\u001b[38;5;124m'\u001b[39m:ran,\u001b[38;5;124m'\u001b[39m\u001b[38;5;124mN_B\u001b[39m\u001b[38;5;124m'\u001b[39m : nb}\n\u001b[1;32m      2\u001b[0m algo_train_scores\u001b[38;5;241m=\u001b[39m{}\n\u001b[1;32m      3\u001b[0m algo_test_scores\u001b[38;5;241m=\u001b[39m{}\n",
      "\u001b[0;31mNameError\u001b[0m: name 'log' is not defined"
     ]
    }
   ],
   "source": [
    "algo_dict = {'l_o_g':log,'d_t':dt,'r_a_n':ran,'N_B' : nb}\n",
    "algo_train_scores={}\n",
    "algo_test_scores={}"
   ]
  },
  {
   "cell_type": "code",
   "execution_count": null,
   "id": "2557dccc",
   "metadata": {},
   "outputs": [
    {
     "ename": "NameError",
     "evalue": "name 'algo_dict' is not defined",
     "output_type": "error",
     "traceback": [
      "\u001b[0;31m---------------------------------------------------------------------------\u001b[0m",
      "\u001b[0;31mNameError\u001b[0m                                 Traceback (most recent call last)",
      "Cell \u001b[0;32mIn[28], line 4\u001b[0m\n\u001b[1;32m      1\u001b[0m \u001b[38;5;66;03m#decision tree was found to be best fit with training score of 0.1 and testing score of 0.87 with k value of 2 in the k fold cross validation. \u001b[39;00m\n\u001b[1;32m      2\u001b[0m \u001b[38;5;66;03m#All the other algorithm seems to be overfit.\u001b[39;00m\n\u001b[1;32m      3\u001b[0m max_kfold \u001b[38;5;241m=\u001b[39m \u001b[38;5;241m11\u001b[39m\n\u001b[0;32m----> 4\u001b[0m \u001b[38;5;28;01mfor\u001b[39;00m algo_name \u001b[38;5;129;01min\u001b[39;00m \u001b[43malgo_dict\u001b[49m\u001b[38;5;241m.\u001b[39mkeys():\n\u001b[1;32m      5\u001b[0m     \u001b[38;5;28mprint\u001b[39m(algo_name)\n\u001b[1;32m      6\u001b[0m     tr_score,tst_score \u001b[38;5;241m=\u001b[39m evaluate(df,max_kfold,algo_dict[algo_name])\n",
      "\u001b[0;31mNameError\u001b[0m: name 'algo_dict' is not defined"
     ]
    }
   ],
   "source": [
    "#decision tree was found to be best fit with training score of 0.1 and testing score of 0.87 with k value of 2 in the k fold cross validation. \n",
    "#All the other algorithm seems to be overfit.\n",
    "max_kfold = 11\n",
    "for algo_name in algo_dict.keys():\n",
    "    print(algo_name)\n",
    "    tr_score,tst_score = evaluate(df,max_kfold,algo_dict[algo_name])\n",
    "    algo_train_scores[algo_name] = tr_score\n",
    "    algo_test_scores[algo_name] = tst_score\n",
    "print(algo_train_scores)\n",
    "print(algo_test_scores)"
   ]
  },
  {
   "cell_type": "code",
   "execution_count": null,
   "id": "628c31c2",
   "metadata": {},
   "outputs": [
    {
     "ename": "NameError",
     "evalue": "name 'algo_test_scores' is not defined",
     "output_type": "error",
     "traceback": [
      "\u001b[0;31m---------------------------------------------------------------------------\u001b[0m",
      "\u001b[0;31mNameError\u001b[0m                                 Traceback (most recent call last)",
      "Cell \u001b[0;32mIn[29], line 1\u001b[0m\n\u001b[0;32m----> 1\u001b[0m df_test \u001b[38;5;241m=\u001b[39m pd\u001b[38;5;241m.\u001b[39mDataFrame(\u001b[43malgo_test_scores\u001b[49m)\n\u001b[1;32m      2\u001b[0m df_train \u001b[38;5;241m=\u001b[39m pd\u001b[38;5;241m.\u001b[39mDataFrame(algo_train_scores)\n",
      "\u001b[0;31mNameError\u001b[0m: name 'algo_test_scores' is not defined"
     ]
    }
   ],
   "source": [
    "df_test = pd.DataFrame(algo_test_scores)\n",
    "df_train = pd.DataFrame(algo_train_scores)"
   ]
  },
  {
   "cell_type": "code",
   "execution_count": null,
   "id": "10eae9f4",
   "metadata": {},
   "outputs": [
    {
     "ename": "NameError",
     "evalue": "name 'df_test' is not defined",
     "output_type": "error",
     "traceback": [
      "\u001b[0;31m---------------------------------------------------------------------------\u001b[0m",
      "\u001b[0;31mNameError\u001b[0m                                 Traceback (most recent call last)",
      "Cell \u001b[0;32mIn[30], line 1\u001b[0m\n\u001b[0;32m----> 1\u001b[0m \u001b[43mdf_test\u001b[49m\u001b[38;5;241m.\u001b[39mplot(grid \u001b[38;5;241m=\u001b[39m \u001b[38;5;241m1\u001b[39m)\n\u001b[1;32m      2\u001b[0m plt\u001b[38;5;241m.\u001b[39mshow()\n\u001b[1;32m      3\u001b[0m plt\u001b[38;5;241m.\u001b[39mgrid()\n",
      "\u001b[0;31mNameError\u001b[0m: name 'df_test' is not defined"
     ]
    }
   ],
   "source": [
    "df_test.plot(grid = 1)\n",
    "plt.show()\n",
    "plt.grid()"
   ]
  },
  {
   "cell_type": "code",
   "execution_count": null,
   "id": "c1e864f7",
   "metadata": {},
   "outputs": [
    {
     "ename": "NameError",
     "evalue": "name 'KFold' is not defined",
     "output_type": "error",
     "traceback": [
      "\u001b[0;31m---------------------------------------------------------------------------\u001b[0m",
      "\u001b[0;31mNameError\u001b[0m                                 Traceback (most recent call last)",
      "Cell \u001b[0;32mIn[31], line 5\u001b[0m\n\u001b[1;32m      3\u001b[0m train_scores\u001b[38;5;241m=\u001b[39m{}\n\u001b[1;32m      4\u001b[0m \u001b[38;5;28;01mfor\u001b[39;00m i \u001b[38;5;129;01min\u001b[39;00m \u001b[38;5;28mrange\u001b[39m(\u001b[38;5;241m2\u001b[39m,\u001b[38;5;241m4\u001b[39m,\u001b[38;5;241m2\u001b[39m):\n\u001b[0;32m----> 5\u001b[0m     kf \u001b[38;5;241m=\u001b[39m \u001b[43mKFold\u001b[49m(n_splits \u001b[38;5;241m=\u001b[39m i)\n\u001b[1;32m      6\u001b[0m     sum_train \u001b[38;5;241m=\u001b[39m \u001b[38;5;241m0\u001b[39m\n\u001b[1;32m      7\u001b[0m     sum_test \u001b[38;5;241m=\u001b[39m \u001b[38;5;241m0\u001b[39m\n",
      "\u001b[0;31mNameError\u001b[0m: name 'KFold' is not defined"
     ]
    }
   ],
   "source": [
    "#building the model at k value 2 \n",
    "test_scores={}\n",
    "train_scores={}\n",
    "for i in range(2,4,2):\n",
    "    kf = KFold(n_splits = i)\n",
    "    sum_train = 0\n",
    "    sum_test = 0\n",
    "    data = df\n",
    "    for train,test in kf.split(data):\n",
    "        train_data = data.iloc[train,:]\n",
    "        test_data = data.iloc[test,:]\n",
    "        x_train = train_data.drop([\"prognosis\"],axis=1)\n",
    "        y_train = train_data['prognosis']\n",
    "        x_test = test_data.drop([\"prognosis\"],axis=1)\n",
    "        y_test = test_data[\"prognosis\"]\n",
    "        algo_model = dt.fit(x_train,y_train)\n",
    "        sum_train += dt.score(x_train,y_train)\n",
    "        y_pred = dt.predict(x_test)\n",
    "        sum_test += accuracy_score(y_test,y_pred)\n",
    "    average_test = sum_test/i\n",
    "    average_train = sum_train/i\n",
    "    test_scores[i] = average_test\n",
    "    train_scores[i] = average_train\n",
    "    print(\"kvalue: \",i)  "
   ]
  },
  {
   "cell_type": "code",
   "execution_count": null,
   "id": "150b335f",
   "metadata": {},
   "outputs": [
    {
     "name": "stdout",
     "output_type": "stream",
     "text": [
      "{}\n",
      "{}\n"
     ]
    }
   ],
   "source": [
    "print(train_scores)\n",
    "print(test_scores)"
   ]
  },
  {
   "cell_type": "code",
   "execution_count": null,
   "id": "d1a5fc36",
   "metadata": {},
   "outputs": [
    {
     "ename": "ModuleNotFoundError",
     "evalue": "No module named 'joblib'",
     "output_type": "error",
     "traceback": [
      "\u001b[0;31m---------------------------------------------------------------------------\u001b[0m",
      "\u001b[0;31mModuleNotFoundError\u001b[0m                       Traceback (most recent call last)",
      "Cell \u001b[0;32mIn[42], line 2\u001b[0m\n\u001b[1;32m      1\u001b[0m \u001b[38;5;66;03m#save the model \u001b[39;00m\n\u001b[0;32m----> 2\u001b[0m \u001b[38;5;28;01mfrom\u001b[39;00m \u001b[38;5;21;01mjoblib\u001b[39;00m \u001b[38;5;28;01mimport\u001b[39;00m dump\n\u001b[1;32m      3\u001b[0m dump(dt,\u001b[38;5;124m'\u001b[39m\u001b[38;5;124mtrained_symptom_disease_predictor_model2\u001b[39m\u001b[38;5;124m'\u001b[39m)\n",
      "\u001b[0;31mModuleNotFoundError\u001b[0m: No module named 'joblib'"
     ]
    }
   ],
   "source": [
    "#save the model \n",
    "from joblib import dump\n",
    "dump(dt,'trained_symptom_disease_predictor_model')"
   ]
  },
  {
   "cell_type": "code",
   "execution_count": null,
   "id": "9cf0e723",
   "metadata": {},
   "outputs": [
    {
     "ename": "ModuleNotFoundError",
     "evalue": "No module named 'joblib'",
     "output_type": "error",
     "traceback": [
      "\u001b[0;31m---------------------------------------------------------------------------\u001b[0m",
      "\u001b[0;31mModuleNotFoundError\u001b[0m                       Traceback (most recent call last)",
      "Cell \u001b[0;32mIn[34], line 1\u001b[0m\n\u001b[0;32m----> 1\u001b[0m \u001b[38;5;28;01mimport\u001b[39;00m \u001b[38;5;21;01mjoblib\u001b[39;00m\n\u001b[1;32m      2\u001b[0m model \u001b[38;5;241m=\u001b[39m joblib\u001b[38;5;241m.\u001b[39mload(\u001b[38;5;124m'\u001b[39m\u001b[38;5;124mtrained_symptom_disease_predictor_model\u001b[39m\u001b[38;5;124m'\u001b[39m)\n\u001b[1;32m      3\u001b[0m \u001b[38;5;66;03m# a = list(range(2,134))\u001b[39;00m\n",
      "\u001b[0;31mModuleNotFoundError\u001b[0m: No module named 'joblib'"
     ]
    }
   ],
   "source": [
    "import joblib\n",
    "model = joblib.load('trained_symptom_disease_predictor_model')\n",
    "# a = list(range(2,134))\n",
    "a = list(range(0,132))\n",
    "# i_name  = (input('Enter your name :'))\n",
    "# i_age = (int(input('Enter your age:')))\n",
    "for i in range(len(x.columns)):\n",
    "#     print(str(i+1+1) + \":\", x.columns[i])\n",
    "     print(str(i) + \":\", x.columns[i])\n",
    "choices = input('Enter the Serial no.s which is your Symptoms are exist:  ')\n",
    "b = [int(x) for x in choices.split()]\n",
    "count = 0\n",
    "while count < len(b):\n",
    "    item_to_replace =  b[count]\n",
    "    replacement_value = 1\n",
    "    indices_to_replace = [i for i,x in enumerate(a) if x==item_to_replace]\n",
    "    count += 1\n",
    "    for i in indices_to_replace:\n",
    "        a[i] = replacement_value\n",
    "a = [0 if x !=1 else x for x in a]\n",
    "y_diagnosis = model.predict([a])\n",
    "y_pred_2 = model.predict_proba([a])\n",
    "print(('Name of the infection = %s , confidence score of : = %s') %(y_diagnosis[0],y_pred_2.max()* 100),'%' )\n",
    "# print(('Name = %s , Age : = %s') %(i_name,i_age))"
   ]
  },
  {
   "cell_type": "code",
   "execution_count": null,
   "id": "5ad57d89",
   "metadata": {},
   "outputs": [],
   "source": [
    "# # Assuming you have already loaded the dataset\n",
    "# df = pd.read_csv('Training.csv')\n",
    "\n",
    "# # Choose the disease you're interested in (e.g., 'Malaria')\n",
    "# disease_name = 'Malaria'\n",
    "\n",
    "# # Filter the DataFrame for the selected disease\n",
    "# selected_disease = df[df[disease_name] == 1]\n",
    "\n",
    "# # Extract the symptoms for the selected disease\n",
    "# symptoms_for_disease = selected_disease.columns[df.loc[selected_disease.index].eq(1).any()]\n",
    "\n",
    "# # Print the disease and its symptoms\n",
    "# print(f\"Disease: {disease_name}\")\n",
    "# print(\"Symptoms:\")\n",
    "# for symptom in symptoms_for_disease:\n",
    "#     print(symptom)"
   ]
  },
  {
   "cell_type": "code",
   "execution_count": null,
   "id": "e82178ff",
   "metadata": {},
   "outputs": [],
   "source": [
    "df_test = pd.read_csv('Testing.csv')\n",
    "# # df_test.head(3)\n",
    "# # Display the columns using the columns attribute\n",
    "# print(\"Columns in df_test:\")\n",
    "# print(df_test.columns)\n",
    "\n",
    "# # Alternatively, you can use head(3) to display the first 3 rows including column names\n",
    "# print(\"\\nFirst 3 rows of df_test:\")\n",
    "# print(df_test.head(1))\n",
    "\n",
    "# Using iloc for integer-location based indexing\n",
    "# row_using_iloc = df_test.iloc[]\n",
    "# print(\"Row using iloc:\")\n",
    "# print(row_using_iloc)\n",
    "\n",
    "# Using loc for label-based indexing\n",
    "# row_using_loc = df_test.loc[0]\n",
    "# print(\"Row using loc:\")\n",
    "# print(row_using_loc)\n",
    "\n",
    "# # Choose the index of the row you want to display\n",
    "# row_index = 30\n",
    "\n",
    "# # Check if the row index is within the valid range\n",
    "# if row_index in df_test.index:\n",
    "#     # Access the row using loc\n",
    "#     row_data = df_test.loc[row_index]\n",
    "\n",
    "#     # Display columns where the value is 1 for the chosen row\n",
    "#     print(f\"Columns with value 1 in Row {row_index}:\")\n",
    "#     for column, value in row_data.items():\n",
    "#         if column == 'prognosis':\n",
    "#             print(f\"Disease: {value}\")\n",
    "#         if value == 1:\n",
    "#             print(f\"{column}: {value}\")\n",
    "# else:\n",
    "#     print(f\"Row index {row_index} not found.\")"
   ]
  },
  {
   "cell_type": "code",
   "execution_count": null,
   "id": "15bebca9",
   "metadata": {},
   "outputs": [],
   "source": []
  }
 ],
 "metadata": {
  "kernelspec": {
   "display_name": "Python 3",
   "language": "python",
   "name": "python3"
  },
  "language_info": {
   "codemirror_mode": {
    "name": "ipython",
    "version": 3
   },
   "file_extension": ".py",
   "mimetype": "text/x-python",
   "name": "python",
   "nbconvert_exporter": "python",
   "pygments_lexer": "ipython3",
   "version": "3.13.2"
  }
 },
 "nbformat": 4,
 "nbformat_minor": 5
}
